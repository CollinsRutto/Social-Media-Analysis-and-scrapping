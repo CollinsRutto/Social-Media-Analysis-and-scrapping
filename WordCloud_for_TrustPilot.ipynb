{
  "nbformat": 4,
  "nbformat_minor": 0,
  "metadata": {
    "colab": {
      "provenance": [],
      "authorship_tag": "ABX9TyPk6AWVxkz1EXV63VB3d3ih",
      "include_colab_link": true
    },
    "kernelspec": {
      "name": "python3",
      "display_name": "Python 3"
    },
    "language_info": {
      "name": "python"
    }
  },
  "cells": [
    {
      "cell_type": "markdown",
      "metadata": {
        "id": "view-in-github",
        "colab_type": "text"
      },
      "source": [
        "<a href=\"https://colab.research.google.com/github/CollinsRutto/Social-Media-Analysis-and-scrapping/blob/main/WordCloud_for_TrustPilot.ipynb\" target=\"_parent\"><img src=\"https://colab.research.google.com/assets/colab-badge.svg\" alt=\"Open In Colab\"/></a>"
      ]
    },
    {
      "cell_type": "code",
      "execution_count": null,
      "metadata": {
        "id": "cpGcFCT_5Und"
      },
      "outputs": [],
      "source": [
        "import pandas as pd\n",
        "import matplotlib.pyplot as plt\n",
        "from textblob import TextBlob\n",
        "from wordcloud import WordCloud\n",
        "import requests\n",
        "from bs4 import BeautifulSoup\n",
        "from time import sleep\n",
        "\n",
        "# Function to extract data from the soup object\n",
        "def soup2list(src, list_, attr=None):\n",
        "    if attr:\n",
        "        for val in src:\n",
        "            list_.append(val[attr])\n",
        "    else:\n",
        "        for val in src:\n",
        "            list_.append(val.get_text(strip=True))\n",
        "\n",
        "def extract_trustpilot_data(company, from_page, to_page):\n",
        "    users = []\n",
        "    ratings = []\n",
        "    reviews = []\n",
        "\n",
        "    for i in range(from_page, to_page + 1):\n",
        "        result = requests.get(f\"https://www.trustpilot.com/review/{company}?page={i}\")\n",
        "        soup = BeautifulSoup(result.content, 'html.parser')\n",
        "\n",
        "        soup2list(soup.find_all('span', {'class': 'typography_heading-xxs__QKBS8 typography_appearance-default__AAY17'}), users)\n",
        "        soup2list(soup.find_all('div', {'class': 'styles_reviewHeader__iU9Px'}), ratings, attr='data-service-review-rating')\n",
        "        soup2list(soup.find_all('div', {'class': 'styles_reviewContent__0Q2Tg'}), reviews)\n",
        "\n",
        "        sleep(1)\n",
        "\n",
        "    df = pd.DataFrame({\n",
        "        'User': users,\n",
        "        'Rating': ratings,\n",
        "        'Review': reviews\n",
        "    })\n",
        "\n",
        "    # Perform sentiment analysis\n",
        "    sentiment_words = []\n",
        "    for review in df['Review']:\n",
        "        analysis = TextBlob(review)\n",
        "        if analysis.sentiment.polarity != 0:\n",
        "            sentiment_words.extend([word.lower() for word in analysis.words if len(word) > 1])  # Filter out single character words\n",
        "\n",
        "    # Generate word cloud from sentiment words\n",
        "    wordcloud = WordCloud(width=800, height=400, background_color='white').generate(' '.join(sentiment_words))\n",
        "\n",
        "    # Display the word cloud\n",
        "    plt.figure(figsize=(10, 8))\n",
        "    plt.imshow(wordcloud, interpolation='bilinear')\n",
        "    plt.axis('off')\n",
        "    plt.title('Word Cloud for Sentiment Analysis')\n",
        "    plt.show()\n",
        "\n",
        "    return df\n",
        "\n",
        "# Define parameters\n",
        "company = 'goodreads.com'\n",
        "from_page = 1\n",
        "to_page = 7\n",
        "\n",
        "# Extract data from Trustpilot reviews and generate word cloud for sentiment analysis\n",
        "trustpilot_data = extract_trustpilot_data(company, from_page, to_page)\n"
      ]
    }
  ]
}