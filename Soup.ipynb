{
  "nbformat": 4,
  "nbformat_minor": 0,
  "metadata": {
    "colab": {
      "provenance": [],
      "authorship_tag": "ABX9TyO62icIlBNu8YYB1+nRZSpS",
      "include_colab_link": true
    },
    "kernelspec": {
      "name": "python3",
      "display_name": "Python 3"
    },
    "language_info": {
      "name": "python"
    }
  },
  "cells": [
    {
      "cell_type": "markdown",
      "metadata": {
        "id": "view-in-github",
        "colab_type": "text"
      },
      "source": [
        "<a href=\"https://colab.research.google.com/github/CollinsRutto/Social-Media-Analysis-and-scrapping/blob/main/Soup.ipynb\" target=\"_parent\"><img src=\"https://colab.research.google.com/assets/colab-badge.svg\" alt=\"Open In Colab\"/></a>"
      ]
    },
    {
      "cell_type": "code",
      "execution_count": 18,
      "metadata": {
        "id": "Pryzm-TWZAt-"
      },
      "outputs": [],
      "source": [
        "# import pandas, requests, bs4, sleep\n",
        "from time import sleep\n",
        "import requests\n",
        "import pandas as pd\n",
        "from bs4 import BeautifulSoup\n",
        "\n",
        "def soup2list(src, list_, attr=None):\n",
        "    if attr:\n",
        "        for val in src:\n",
        "            list_.append(val[attr])\n",
        "    else:\n",
        "        for val in src:\n",
        "            list_.append(val.get_text(strip=True))\n",
        "# Identify the\n",
        "users = []\n",
        "userReviewNum = []\n",
        "ratings = []\n",
        "locations = []\n",
        "dates = []\n",
        "reviews = []\n",
        "\n",
        "from_page = 1\n",
        "to_page = 7\n",
        "company = 'goodreads.com'\n",
        "\n",
        "for i in range(from_page, to_page + 1):\n",
        "    result = requests.get(f\"https://www.trustpilot.com/review/{company}?page={i}\")\n",
        "    soup = BeautifulSoup(result.content, 'html.parser')\n",
        "\n",
        "    soup2list(soup.find_all('span', {'class': 'typography_heading-xxs__QKBS8 typography_appearance-default__AAY17'}), users)\n",
        "    soup2list(soup.find_all('div', {'class': 'typography_body-m__xgxZ_ typography_appearance-subtle__8_H2l styles_detailsIcon__Fo_ua'}), locations)\n",
        "    soup2list(soup.find_all('span', {'class': 'typography_body-m__xgxZ_ typography_appearance-subtle__8_H2l'}), userReviewNum)\n",
        "    soup2list(soup.find_all('div', {'class': 'styles_reviewHeader__iU9Px'}), dates)\n",
        "    soup2list(soup.find_all('div', {'class': 'styles_reviewHeader__iU9Px'}), ratings, attr='data-service-review-rating')\n",
        "    soup2list(soup.find_all('div', {'class': 'styles_reviewContent__0Q2Tg'}), reviews)\n",
        "\n",
        ""
      ]
    },
    {
      "cell_type": "code",
      "source": [
        "# To avoid throttling\n",
        "    sleep(1)\n",
        "\n"
      ],
      "metadata": {
        "colab": {
          "base_uri": "https://localhost:8080/",
          "height": 106
        },
        "id": "0Ka0C_SNjyt7",
        "outputId": "5bd401b2-2cdb-48a7-8205-c641007250b8"
      },
      "execution_count": 19,
      "outputs": [
        {
          "output_type": "error",
          "ename": "IndentationError",
          "evalue": "unexpected indent (<ipython-input-19-340f2fd1b019>, line 2)",
          "traceback": [
            "\u001b[0;36m  File \u001b[0;32m\"<ipython-input-19-340f2fd1b019>\"\u001b[0;36m, line \u001b[0;32m2\u001b[0m\n\u001b[0;31m    sleep(1)\u001b[0m\n\u001b[0m    ^\u001b[0m\n\u001b[0;31mIndentationError\u001b[0m\u001b[0;31m:\u001b[0m unexpected indent\n"
          ]
        }
      ]
    },
    {
      "cell_type": "code",
      "source": [
        "# Debug: Print lengths of all lists to identify the issue\n",
        "print(\"Length of users:\", len(users))\n",
        "print(\"Length of locations:\", len(locations))\n",
        "print(\"Length of userReviewNum:\", len(userReviewNum))\n",
        "print(\"Length of dates:\", len(dates))\n",
        "print(\"Length of ratings:\", len(ratings))\n",
        "print(\"Length of reviews:\", len(reviews))\n",
        "\n"
      ],
      "metadata": {
        "colab": {
          "base_uri": "https://localhost:8080/"
        },
        "id": "XVlmp9x0j7AQ",
        "outputId": "af0d15fc-eae9-438a-96fe-152b111ba923"
      },
      "execution_count": 20,
      "outputs": [
        {
          "output_type": "stream",
          "name": "stdout",
          "text": [
            "Length of users: 124\n",
            "Length of locations: 124\n",
            "Length of userReviewNum: 145\n",
            "Length of dates: 124\n",
            "Length of ratings: 124\n",
            "Length of reviews: 124\n"
          ]
        }
      ]
    },
    {
      "cell_type": "code",
      "source": [
        "# We shall Filter out userReviewNum to match the length of other lists\n",
        "userReviewNum = userReviewNum[:len(users)]  # Use the length of 'users' list\n",
        "\n"
      ],
      "metadata": {
        "id": "Ye6zJ_mukAQM"
      },
      "execution_count": 21,
      "outputs": []
    },
    {
      "cell_type": "code",
      "source": [
        "# We Create DataFrame only if all lists have the same length\n",
        "if len(users) == len(locations) == len(userReviewNum) == len(dates) == len(ratings) == len(reviews):\n",
        "    review_data = pd.DataFrame({\n",
        "        'Username': users,\n",
        "        'Total reviews': userReviewNum,\n",
        "        'Location': locations,\n",
        "        'Date': dates,\n",
        "        'Content': reviews,\n",
        "        'Rating': ratings\n",
        "    })\n",
        "    print(\"DataFrame created successfully.\")\n",
        "    print(review_data.head())  # Display the first few rows of the DataFrame\n",
        "else:\n",
        "    print(\"Error: Lengths of lists do not match, cannot create DataFrame.\")\n"
      ],
      "metadata": {
        "colab": {
          "base_uri": "https://localhost:8080/"
        },
        "id": "uN1eKXCdkC8-",
        "outputId": "90095ec3-6516-4952-cec0-33f0e9211420"
      },
      "execution_count": 22,
      "outputs": [
        {
          "output_type": "stream",
          "name": "stdout",
          "text": [
            "DataFrame created successfully.\n",
            "          Username Total reviews Location          Date  \\\n",
            "0        Anastasia   31K reviews       UA  Mar 27, 2024   \n",
            "1     Steve Sarner   16K reviews       US  Mar 15, 2024   \n",
            "2  Home Owner FUJB   15K reviews       US  Mar 10, 2024   \n",
            "3      Missy Gotty      3reviews       GB   Jan 5, 2024   \n",
            "4             Alex      4reviews       US   Feb 1, 2024   \n",
            "\n",
            "                                             Content Rating  \n",
            "0  My virtual libraryI started using Goodreads as...      4  \n",
            "1  Goodreads RocksGoodreads rocks. It's a great s...      5  \n",
            "2  REVIEWBOMB Corruption FAKE ACCOUNTSREVIEWBOMB ...      1  \n",
            "3  Very shady company!Very shady company who make...      1  \n",
            "4  I love Goodreads!I love Goodreads! They helped...      5  \n"
          ]
        }
      ]
    },
    {
      "cell_type": "code",
      "source": [
        "# return sample data\n",
        "review_data"
      ],
      "metadata": {
        "colab": {
          "base_uri": "https://localhost:8080/",
          "height": 424
        },
        "id": "CvbwG1qMnep7",
        "outputId": "ebfba953-2334-4242-ad17-fac200ba98a1"
      },
      "execution_count": 23,
      "outputs": [
        {
          "output_type": "execute_result",
          "data": {
            "text/plain": [
              "            Username Total reviews Location                  Date  \\\n",
              "0          Anastasia   31K reviews       UA          Mar 27, 2024   \n",
              "1       Steve Sarner   16K reviews       US          Mar 15, 2024   \n",
              "2    Home Owner FUJB   15K reviews       US          Mar 10, 2024   \n",
              "3        Missy Gotty      3reviews       GB           Jan 5, 2024   \n",
              "4               Alex      4reviews       US           Feb 1, 2024   \n",
              "..               ...           ...      ...                   ...   \n",
              "119          Manuela      2reviews       US          Apr 25, 2015   \n",
              "120            Donna      5reviews       GB          Jan 29, 2023   \n",
              "121          Mustafa      4reviews       IR           Aug 6, 2022   \n",
              "122   Miloš Belčević      3reviews       US  Updated May 26, 2020   \n",
              "123            Manny     14reviews       US          May 30, 2018   \n",
              "\n",
              "                                               Content Rating  \n",
              "0    My virtual libraryI started using Goodreads as...      4  \n",
              "1    Goodreads RocksGoodreads rocks. It's a great s...      5  \n",
              "2    REVIEWBOMB Corruption FAKE ACCOUNTSREVIEWBOMB ...      1  \n",
              "3    Very shady company!Very shady company who make...      1  \n",
              "4    I love Goodreads!I love Goodreads! They helped...      5  \n",
              "..                                                 ...    ...  \n",
              "119  Awesome siteThere really is not anything more ...      5  \n",
              "120  Hate the new look to the site!Date of experien...      2  \n",
              "121  The reviews are wonderful and relative.Date of...      5  \n",
              "122  Love Good reads!Love Goodreads since 2013!Date...      5  \n",
              "123  good...............Date of experience:May 30, ...      4  \n",
              "\n",
              "[124 rows x 6 columns]"
            ],
            "text/html": [
              "\n",
              "  <div id=\"df-2cd8feee-32a4-4949-a0e1-4d5dddaa2ae6\" class=\"colab-df-container\">\n",
              "    <div>\n",
              "<style scoped>\n",
              "    .dataframe tbody tr th:only-of-type {\n",
              "        vertical-align: middle;\n",
              "    }\n",
              "\n",
              "    .dataframe tbody tr th {\n",
              "        vertical-align: top;\n",
              "    }\n",
              "\n",
              "    .dataframe thead th {\n",
              "        text-align: right;\n",
              "    }\n",
              "</style>\n",
              "<table border=\"1\" class=\"dataframe\">\n",
              "  <thead>\n",
              "    <tr style=\"text-align: right;\">\n",
              "      <th></th>\n",
              "      <th>Username</th>\n",
              "      <th>Total reviews</th>\n",
              "      <th>Location</th>\n",
              "      <th>Date</th>\n",
              "      <th>Content</th>\n",
              "      <th>Rating</th>\n",
              "    </tr>\n",
              "  </thead>\n",
              "  <tbody>\n",
              "    <tr>\n",
              "      <th>0</th>\n",
              "      <td>Anastasia</td>\n",
              "      <td>31K reviews</td>\n",
              "      <td>UA</td>\n",
              "      <td>Mar 27, 2024</td>\n",
              "      <td>My virtual libraryI started using Goodreads as...</td>\n",
              "      <td>4</td>\n",
              "    </tr>\n",
              "    <tr>\n",
              "      <th>1</th>\n",
              "      <td>Steve Sarner</td>\n",
              "      <td>16K reviews</td>\n",
              "      <td>US</td>\n",
              "      <td>Mar 15, 2024</td>\n",
              "      <td>Goodreads RocksGoodreads rocks. It's a great s...</td>\n",
              "      <td>5</td>\n",
              "    </tr>\n",
              "    <tr>\n",
              "      <th>2</th>\n",
              "      <td>Home Owner FUJB</td>\n",
              "      <td>15K reviews</td>\n",
              "      <td>US</td>\n",
              "      <td>Mar 10, 2024</td>\n",
              "      <td>REVIEWBOMB Corruption FAKE ACCOUNTSREVIEWBOMB ...</td>\n",
              "      <td>1</td>\n",
              "    </tr>\n",
              "    <tr>\n",
              "      <th>3</th>\n",
              "      <td>Missy Gotty</td>\n",
              "      <td>3reviews</td>\n",
              "      <td>GB</td>\n",
              "      <td>Jan 5, 2024</td>\n",
              "      <td>Very shady company!Very shady company who make...</td>\n",
              "      <td>1</td>\n",
              "    </tr>\n",
              "    <tr>\n",
              "      <th>4</th>\n",
              "      <td>Alex</td>\n",
              "      <td>4reviews</td>\n",
              "      <td>US</td>\n",
              "      <td>Feb 1, 2024</td>\n",
              "      <td>I love Goodreads!I love Goodreads! They helped...</td>\n",
              "      <td>5</td>\n",
              "    </tr>\n",
              "    <tr>\n",
              "      <th>...</th>\n",
              "      <td>...</td>\n",
              "      <td>...</td>\n",
              "      <td>...</td>\n",
              "      <td>...</td>\n",
              "      <td>...</td>\n",
              "      <td>...</td>\n",
              "    </tr>\n",
              "    <tr>\n",
              "      <th>119</th>\n",
              "      <td>Manuela</td>\n",
              "      <td>2reviews</td>\n",
              "      <td>US</td>\n",
              "      <td>Apr 25, 2015</td>\n",
              "      <td>Awesome siteThere really is not anything more ...</td>\n",
              "      <td>5</td>\n",
              "    </tr>\n",
              "    <tr>\n",
              "      <th>120</th>\n",
              "      <td>Donna</td>\n",
              "      <td>5reviews</td>\n",
              "      <td>GB</td>\n",
              "      <td>Jan 29, 2023</td>\n",
              "      <td>Hate the new look to the site!Date of experien...</td>\n",
              "      <td>2</td>\n",
              "    </tr>\n",
              "    <tr>\n",
              "      <th>121</th>\n",
              "      <td>Mustafa</td>\n",
              "      <td>4reviews</td>\n",
              "      <td>IR</td>\n",
              "      <td>Aug 6, 2022</td>\n",
              "      <td>The reviews are wonderful and relative.Date of...</td>\n",
              "      <td>5</td>\n",
              "    </tr>\n",
              "    <tr>\n",
              "      <th>122</th>\n",
              "      <td>Miloš Belčević</td>\n",
              "      <td>3reviews</td>\n",
              "      <td>US</td>\n",
              "      <td>Updated May 26, 2020</td>\n",
              "      <td>Love Good reads!Love Goodreads since 2013!Date...</td>\n",
              "      <td>5</td>\n",
              "    </tr>\n",
              "    <tr>\n",
              "      <th>123</th>\n",
              "      <td>Manny</td>\n",
              "      <td>14reviews</td>\n",
              "      <td>US</td>\n",
              "      <td>May 30, 2018</td>\n",
              "      <td>good...............Date of experience:May 30, ...</td>\n",
              "      <td>4</td>\n",
              "    </tr>\n",
              "  </tbody>\n",
              "</table>\n",
              "<p>124 rows × 6 columns</p>\n",
              "</div>\n",
              "    <div class=\"colab-df-buttons\">\n",
              "\n",
              "  <div class=\"colab-df-container\">\n",
              "    <button class=\"colab-df-convert\" onclick=\"convertToInteractive('df-2cd8feee-32a4-4949-a0e1-4d5dddaa2ae6')\"\n",
              "            title=\"Convert this dataframe to an interactive table.\"\n",
              "            style=\"display:none;\">\n",
              "\n",
              "  <svg xmlns=\"http://www.w3.org/2000/svg\" height=\"24px\" viewBox=\"0 -960 960 960\">\n",
              "    <path d=\"M120-120v-720h720v720H120Zm60-500h600v-160H180v160Zm220 220h160v-160H400v160Zm0 220h160v-160H400v160ZM180-400h160v-160H180v160Zm440 0h160v-160H620v160ZM180-180h160v-160H180v160Zm440 0h160v-160H620v160Z\"/>\n",
              "  </svg>\n",
              "    </button>\n",
              "\n",
              "  <style>\n",
              "    .colab-df-container {\n",
              "      display:flex;\n",
              "      gap: 12px;\n",
              "    }\n",
              "\n",
              "    .colab-df-convert {\n",
              "      background-color: #E8F0FE;\n",
              "      border: none;\n",
              "      border-radius: 50%;\n",
              "      cursor: pointer;\n",
              "      display: none;\n",
              "      fill: #1967D2;\n",
              "      height: 32px;\n",
              "      padding: 0 0 0 0;\n",
              "      width: 32px;\n",
              "    }\n",
              "\n",
              "    .colab-df-convert:hover {\n",
              "      background-color: #E2EBFA;\n",
              "      box-shadow: 0px 1px 2px rgba(60, 64, 67, 0.3), 0px 1px 3px 1px rgba(60, 64, 67, 0.15);\n",
              "      fill: #174EA6;\n",
              "    }\n",
              "\n",
              "    .colab-df-buttons div {\n",
              "      margin-bottom: 4px;\n",
              "    }\n",
              "\n",
              "    [theme=dark] .colab-df-convert {\n",
              "      background-color: #3B4455;\n",
              "      fill: #D2E3FC;\n",
              "    }\n",
              "\n",
              "    [theme=dark] .colab-df-convert:hover {\n",
              "      background-color: #434B5C;\n",
              "      box-shadow: 0px 1px 3px 1px rgba(0, 0, 0, 0.15);\n",
              "      filter: drop-shadow(0px 1px 2px rgba(0, 0, 0, 0.3));\n",
              "      fill: #FFFFFF;\n",
              "    }\n",
              "  </style>\n",
              "\n",
              "    <script>\n",
              "      const buttonEl =\n",
              "        document.querySelector('#df-2cd8feee-32a4-4949-a0e1-4d5dddaa2ae6 button.colab-df-convert');\n",
              "      buttonEl.style.display =\n",
              "        google.colab.kernel.accessAllowed ? 'block' : 'none';\n",
              "\n",
              "      async function convertToInteractive(key) {\n",
              "        const element = document.querySelector('#df-2cd8feee-32a4-4949-a0e1-4d5dddaa2ae6');\n",
              "        const dataTable =\n",
              "          await google.colab.kernel.invokeFunction('convertToInteractive',\n",
              "                                                    [key], {});\n",
              "        if (!dataTable) return;\n",
              "\n",
              "        const docLinkHtml = 'Like what you see? Visit the ' +\n",
              "          '<a target=\"_blank\" href=https://colab.research.google.com/notebooks/data_table.ipynb>data table notebook</a>'\n",
              "          + ' to learn more about interactive tables.';\n",
              "        element.innerHTML = '';\n",
              "        dataTable['output_type'] = 'display_data';\n",
              "        await google.colab.output.renderOutput(dataTable, element);\n",
              "        const docLink = document.createElement('div');\n",
              "        docLink.innerHTML = docLinkHtml;\n",
              "        element.appendChild(docLink);\n",
              "      }\n",
              "    </script>\n",
              "  </div>\n",
              "\n",
              "\n",
              "<div id=\"df-9452a2ab-6b45-4b7d-af46-cea30d242333\">\n",
              "  <button class=\"colab-df-quickchart\" onclick=\"quickchart('df-9452a2ab-6b45-4b7d-af46-cea30d242333')\"\n",
              "            title=\"Suggest charts\"\n",
              "            style=\"display:none;\">\n",
              "\n",
              "<svg xmlns=\"http://www.w3.org/2000/svg\" height=\"24px\"viewBox=\"0 0 24 24\"\n",
              "     width=\"24px\">\n",
              "    <g>\n",
              "        <path d=\"M19 3H5c-1.1 0-2 .9-2 2v14c0 1.1.9 2 2 2h14c1.1 0 2-.9 2-2V5c0-1.1-.9-2-2-2zM9 17H7v-7h2v7zm4 0h-2V7h2v10zm4 0h-2v-4h2v4z\"/>\n",
              "    </g>\n",
              "</svg>\n",
              "  </button>\n",
              "\n",
              "<style>\n",
              "  .colab-df-quickchart {\n",
              "      --bg-color: #E8F0FE;\n",
              "      --fill-color: #1967D2;\n",
              "      --hover-bg-color: #E2EBFA;\n",
              "      --hover-fill-color: #174EA6;\n",
              "      --disabled-fill-color: #AAA;\n",
              "      --disabled-bg-color: #DDD;\n",
              "  }\n",
              "\n",
              "  [theme=dark] .colab-df-quickchart {\n",
              "      --bg-color: #3B4455;\n",
              "      --fill-color: #D2E3FC;\n",
              "      --hover-bg-color: #434B5C;\n",
              "      --hover-fill-color: #FFFFFF;\n",
              "      --disabled-bg-color: #3B4455;\n",
              "      --disabled-fill-color: #666;\n",
              "  }\n",
              "\n",
              "  .colab-df-quickchart {\n",
              "    background-color: var(--bg-color);\n",
              "    border: none;\n",
              "    border-radius: 50%;\n",
              "    cursor: pointer;\n",
              "    display: none;\n",
              "    fill: var(--fill-color);\n",
              "    height: 32px;\n",
              "    padding: 0;\n",
              "    width: 32px;\n",
              "  }\n",
              "\n",
              "  .colab-df-quickchart:hover {\n",
              "    background-color: var(--hover-bg-color);\n",
              "    box-shadow: 0 1px 2px rgba(60, 64, 67, 0.3), 0 1px 3px 1px rgba(60, 64, 67, 0.15);\n",
              "    fill: var(--button-hover-fill-color);\n",
              "  }\n",
              "\n",
              "  .colab-df-quickchart-complete:disabled,\n",
              "  .colab-df-quickchart-complete:disabled:hover {\n",
              "    background-color: var(--disabled-bg-color);\n",
              "    fill: var(--disabled-fill-color);\n",
              "    box-shadow: none;\n",
              "  }\n",
              "\n",
              "  .colab-df-spinner {\n",
              "    border: 2px solid var(--fill-color);\n",
              "    border-color: transparent;\n",
              "    border-bottom-color: var(--fill-color);\n",
              "    animation:\n",
              "      spin 1s steps(1) infinite;\n",
              "  }\n",
              "\n",
              "  @keyframes spin {\n",
              "    0% {\n",
              "      border-color: transparent;\n",
              "      border-bottom-color: var(--fill-color);\n",
              "      border-left-color: var(--fill-color);\n",
              "    }\n",
              "    20% {\n",
              "      border-color: transparent;\n",
              "      border-left-color: var(--fill-color);\n",
              "      border-top-color: var(--fill-color);\n",
              "    }\n",
              "    30% {\n",
              "      border-color: transparent;\n",
              "      border-left-color: var(--fill-color);\n",
              "      border-top-color: var(--fill-color);\n",
              "      border-right-color: var(--fill-color);\n",
              "    }\n",
              "    40% {\n",
              "      border-color: transparent;\n",
              "      border-right-color: var(--fill-color);\n",
              "      border-top-color: var(--fill-color);\n",
              "    }\n",
              "    60% {\n",
              "      border-color: transparent;\n",
              "      border-right-color: var(--fill-color);\n",
              "    }\n",
              "    80% {\n",
              "      border-color: transparent;\n",
              "      border-right-color: var(--fill-color);\n",
              "      border-bottom-color: var(--fill-color);\n",
              "    }\n",
              "    90% {\n",
              "      border-color: transparent;\n",
              "      border-bottom-color: var(--fill-color);\n",
              "    }\n",
              "  }\n",
              "</style>\n",
              "\n",
              "  <script>\n",
              "    async function quickchart(key) {\n",
              "      const quickchartButtonEl =\n",
              "        document.querySelector('#' + key + ' button');\n",
              "      quickchartButtonEl.disabled = true;  // To prevent multiple clicks.\n",
              "      quickchartButtonEl.classList.add('colab-df-spinner');\n",
              "      try {\n",
              "        const charts = await google.colab.kernel.invokeFunction(\n",
              "            'suggestCharts', [key], {});\n",
              "      } catch (error) {\n",
              "        console.error('Error during call to suggestCharts:', error);\n",
              "      }\n",
              "      quickchartButtonEl.classList.remove('colab-df-spinner');\n",
              "      quickchartButtonEl.classList.add('colab-df-quickchart-complete');\n",
              "    }\n",
              "    (() => {\n",
              "      let quickchartButtonEl =\n",
              "        document.querySelector('#df-9452a2ab-6b45-4b7d-af46-cea30d242333 button');\n",
              "      quickchartButtonEl.style.display =\n",
              "        google.colab.kernel.accessAllowed ? 'block' : 'none';\n",
              "    })();\n",
              "  </script>\n",
              "</div>\n",
              "    </div>\n",
              "  </div>\n"
            ],
            "application/vnd.google.colaboratory.intrinsic+json": {
              "type": "dataframe",
              "variable_name": "review_data",
              "summary": "{\n  \"name\": \"review_data\",\n  \"rows\": 124,\n  \"fields\": [\n    {\n      \"column\": \"Username\",\n      \"properties\": {\n        \"dtype\": \"string\",\n        \"num_unique_values\": 123,\n        \"samples\": [\n          \"Dark Star\",\n          \"Banning Lary\",\n          \"LE\"\n        ],\n        \"semantic_type\": \"\",\n        \"description\": \"\"\n      }\n    },\n    {\n      \"column\": \"Total reviews\",\n      \"properties\": {\n        \"dtype\": \"category\",\n        \"num_unique_values\": 32,\n        \"samples\": [\n          \"20reviews\",\n          \"24reviews\",\n          \"115reviews\"\n        ],\n        \"semantic_type\": \"\",\n        \"description\": \"\"\n      }\n    },\n    {\n      \"column\": \"Location\",\n      \"properties\": {\n        \"dtype\": \"category\",\n        \"num_unique_values\": 29,\n        \"samples\": [\n          \"HU\",\n          \"BG\",\n          \"NZ\"\n        ],\n        \"semantic_type\": \"\",\n        \"description\": \"\"\n      }\n    },\n    {\n      \"column\": \"Date\",\n      \"properties\": {\n        \"dtype\": \"string\",\n        \"num_unique_values\": 123,\n        \"samples\": [\n          \"Feb 8, 2023\",\n          \"Updated Jan 2, 2020\",\n          \"Oct 22, 2023\"\n        ],\n        \"semantic_type\": \"\",\n        \"description\": \"\"\n      }\n    },\n    {\n      \"column\": \"Content\",\n      \"properties\": {\n        \"dtype\": \"string\",\n        \"num_unique_values\": 124,\n        \"samples\": [\n          \"Interesting idea, but let down by selling your info.Thought this was a good site, allowing you to keep track of the books you have read, set reading goals for yourself, even see what friends are reading.Unfortunately, quickly found the site shares your information on a massive scale.  A few days after signing up, I saw a huge influx of spam and scam messages being sent to me e-mail address.Been reporting and blocking these messages for a 2 weeks now, and there seems to be no end to it.Definatel has to be this site, as there are no other new sites I've joined in the past few months.Date of experience:February 07, 2023\",\n          \"I love GoodreadsI love Goodreads! Finally, a social network for bookworms. No kids' photos, no vague statuses, just books. Love it!One star down is just for the slow and obsolete website + app. It could use some retooling and more intuitive functions. App can be horribly slow at times.Date of experience:August 06, 2018\",\n          \"Caught between two devilsCaught between two devils. I thoroughly enjoyed Mark Creedon,s  book on the escape of his family from Nazi occupied territories during the Second World War.I also learned a good deal more information about what happened to people in that area of the world I.e.  Lithuania.. Larry DooleyDate of experience:January 09, 2020\"\n        ],\n        \"semantic_type\": \"\",\n        \"description\": \"\"\n      }\n    },\n    {\n      \"column\": \"Rating\",\n      \"properties\": {\n        \"dtype\": \"category\",\n        \"num_unique_values\": 5,\n        \"samples\": [\n          \"5\",\n          \"3\",\n          \"1\"\n        ],\n        \"semantic_type\": \"\",\n        \"description\": \"\"\n      }\n    }\n  ]\n}"
            }
          },
          "metadata": {},
          "execution_count": 23
        }
      ]
    },
    {
      "source": [
        "# Import matplotlib, pyplot and seaborn to show date against count\n",
        "# @title Date vs count()\n",
        "\n",
        "from matplotlib import pyplot as plt\n",
        "import seaborn as sns\n",
        "def _plot_series(series, series_name, series_index=0):\n",
        "  palette = list(sns.palettes.mpl_palette('Dark2'))\n",
        "  counted = (series['Date']\n",
        "                .value_counts()\n",
        "              .reset_index(name='counts')\n",
        "              .rename({'index': 'Date'}, axis=1)\n",
        "              .sort_values('Date', ascending=True))\n",
        "  xs = counted['Date']\n",
        "  ys = counted['counts']\n",
        "  plt.plot(xs, ys, label=series_name, color=palette[series_index % len(palette)])\n",
        "\n",
        "fig, ax = plt.subplots(figsize=(10, 5.2), layout='constrained')\n",
        "df_sorted = review_data.sort_values('Date', ascending=True)\n",
        "for i, (series_name, series) in enumerate(df_sorted.groupby('Rating')):\n",
        "  _plot_series(series, series_name, i)\n",
        "  fig.legend(title='Rating', bbox_to_anchor=(1, 1), loc='upper left')\n",
        "sns.despine(fig=fig, ax=ax)\n",
        "plt.xlabel('Date')\n",
        "_ = plt.ylabel('count()')"
      ],
      "cell_type": "code",
      "execution_count": 25,
      "outputs": [
        {
          "output_type": "display_data",
          "data": {
            "text/plain": [
              "<Figure size 1000x520 with 1 Axes>"
            ],
            "image/png": "[encoded data removed]"
          },
          "metadata": {}
        }
      ],
      "metadata": {
        "id": "eW-h0RuHvKeR",
        "outputId": "c4817ae7-ada9-421f-d704-91a3cfc500f9",
        "colab": {
          "base_uri": "https://localhost:8080/",
          "height": 548
        }
      }
    },
    {
      "cell_type": "code",
      "source": [
        "# We shall request matplotlib, pyplot to showcase Total reviews against Rating\n",
        "# @title Total reviews vs Rating\n",
        "\n",
        "from matplotlib import pyplot as plt\n",
        "import seaborn as sns\n",
        "import pandas as pd\n",
        "plt.subplots(figsize=(8, 8))\n",
        "df_2dhist = pd.DataFrame({\n",
        "    x_label: grp['Rating'].value_counts()\n",
        "    for x_label, grp in review_data.groupby('Total reviews')\n",
        "})\n",
        "sns.heatmap(df_2dhist, cmap='viridis')\n",
        "plt.xlabel('Total reviews')\n",
        "_ = plt.ylabel('Rating')"
      ],
      "metadata": {
        "colab": {
          "base_uri": "https://localhost:8080/",
          "height": 772
        },
        "id": "0A2korLNp2A2",
        "outputId": "6591754d-da25-44fb-8a2a-cda93c98a4e1"
      },
      "execution_count": 26,
      "outputs": [
        {
          "output_type": "display_data",
          "data": {
            "text/plain": [
              "<Figure size 800x800 with 2 Axes>"
            ],
            "image/png": "[encoded data removed]"
          },
          "metadata": {}
        }
      ]
    },
    {
      "source": [
        "# Import matplotlib, pyplot and seaborn to show ratings against count\n",
        "#@title Rating\n",
        "\n",
        "from matplotlib import pyplot as plt\n",
        "import seaborn as sns\n",
        "review_data.groupby('Rating').size().plot(kind='barh', color=sns.palettes.mpl_palette('Dark2'))\n",
        "plt.gca().spines[['top', 'right',]].set_visible(False)"
      ],
      "cell_type": "code",
      "execution_count": 27,
      "outputs": [
        {
          "output_type": "display_data",
          "data": {
            "text/plain": [
              "<Figure size 640x480 with 1 Axes>"
            ],
            "image/png": "[encoded data removed]"
          },
          "metadata": {}
        }
      ],
      "metadata": {
        "colab": {
          "base_uri": "https://localhost:8080/",
          "height": 430
        },
        "id": "8uL2bWKRpR2b",
        "outputId": "5becd07d-9324-4737-9f54-7aca023c9101"
      }
    },
    {
      "cell_type": "code",
      "source": [
        "# Convert the DataFrame to a CSV file and download it\n",
        "review_data.to_csv('reviews.csv', index=False)\n",
        "files.download('reviews.csv')"
      ],
      "metadata": {
        "colab": {
          "base_uri": "https://localhost:8080/",
          "height": 17
        },
        "id": "IWptrit0oQs0",
        "outputId": "6ec08172-97ea-4da2-8a56-531840fbcfb5"
      },
      "execution_count": 28,
      "outputs": [
        {
          "output_type": "display_data",
          "data": {
            "text/plain": [
              "<IPython.core.display.Javascript object>"
            ],
            "application/javascript": [
              "\n",
              "    async function download(id, filename, size) {\n",
              "      if (!google.colab.kernel.accessAllowed) {\n",
              "        return;\n",
              "      }\n",
              "      const div = document.createElement('div');\n",
              "      const label = document.createElement('label');\n",
              "      label.textContent = `Downloading \"${filename}\": `;\n",
              "      div.appendChild(label);\n",
              "      const progress = document.createElement('progress');\n",
              "      progress.max = size;\n",
              "      div.appendChild(progress);\n",
              "      document.body.appendChild(div);\n",
              "\n",
              "      const buffers = [];\n",
              "      let downloaded = 0;\n",
              "\n",
              "      const channel = await google.colab.kernel.comms.open(id);\n",
              "      // Send a message to notify the kernel that we're ready.\n",
              "      channel.send({})\n",
              "\n",
              "      for await (const message of channel.messages) {\n",
              "        // Send a message to notify the kernel that we're ready.\n",
              "        channel.send({})\n",
              "        if (message.buffers) {\n",
              "          for (const buffer of message.buffers) {\n",
              "            buffers.push(buffer);\n",
              "            downloaded += buffer.byteLength;\n",
              "            progress.value = downloaded;\n",
              "          }\n",
              "        }\n",
              "      }\n",
              "      const blob = new Blob(buffers, {type: 'application/binary'});\n",
              "      const a = document.createElement('a');\n",
              "      a.href = window.URL.createObjectURL(blob);\n",
              "      a.download = filename;\n",
              "      div.appendChild(a);\n",
              "      a.click();\n",
              "      div.remove();\n",
              "    }\n",
              "  "
            ]
          },
          "metadata": {}
        },
        {
          "output_type": "display_data",
          "data": {
            "text/plain": [
              "<IPython.core.display.Javascript object>"
            ],
            "application/javascript": [
              "download(\"download_f1dc446f-724f-45a2-9d84-0aadd11bdcb8\", \"reviews.csv\", 71411)"
            ]
          },
          "metadata": {}
        }
      ]
    },
    {
      "cell_type": "code",
      "source": [
        "# Import the required module for file download (for Google Colab)\n",
        "from google.colab import files\n",
        "\n",
        "\n"
      ],
      "metadata": {
        "id": "QtEQ-b3KkyZO"
      },
      "execution_count": 29,
      "outputs": []
    },
    {
      "cell_type": "code",
      "source": [
        "# Convert the DataFrame to a CSV file\n",
        "review_data.to_csv('reviews.csv', index=False)\n",
        "# Download the CSV file\n",
        "files.download('reviews.csv')"
      ],
      "metadata": {
        "id": "yHeF_H-dnQ7M",
        "outputId": "cdd6c740-f971-4683-d6cd-20fc2addfcd7",
        "colab": {
          "base_uri": "https://localhost:8080/",
          "height": 17
        }
      },
      "execution_count": 30,
      "outputs": [
        {
          "output_type": "display_data",
          "data": {
            "text/plain": [
              "<IPython.core.display.Javascript object>"
            ],
            "application/javascript": [
              "\n",
              "    async function download(id, filename, size) {\n",
              "      if (!google.colab.kernel.accessAllowed) {\n",
              "        return;\n",
              "      }\n",
              "      const div = document.createElement('div');\n",
              "      const label = document.createElement('label');\n",
              "      label.textContent = `Downloading \"${filename}\": `;\n",
              "      div.appendChild(label);\n",
              "      const progress = document.createElement('progress');\n",
              "      progress.max = size;\n",
              "      div.appendChild(progress);\n",
              "      document.body.appendChild(div);\n",
              "\n",
              "      const buffers = [];\n",
              "      let downloaded = 0;\n",
              "\n",
              "      const channel = await google.colab.kernel.comms.open(id);\n",
              "      // Send a message to notify the kernel that we're ready.\n",
              "      channel.send({})\n",
              "\n",
              "      for await (const message of channel.messages) {\n",
              "        // Send a message to notify the kernel that we're ready.\n",
              "        channel.send({})\n",
              "        if (message.buffers) {\n",
              "          for (const buffer of message.buffers) {\n",
              "            buffers.push(buffer);\n",
              "            downloaded += buffer.byteLength;\n",
              "            progress.value = downloaded;\n",
              "          }\n",
              "        }\n",
              "      }\n",
              "      const blob = new Blob(buffers, {type: 'application/binary'});\n",
              "      const a = document.createElement('a');\n",
              "      a.href = window.URL.createObjectURL(blob);\n",
              "      a.download = filename;\n",
              "      div.appendChild(a);\n",
              "      a.click();\n",
              "      div.remove();\n",
              "    }\n",
              "  "
            ]
          },
          "metadata": {}
        },
        {
          "output_type": "display_data",
          "data": {
            "text/plain": [
              "<IPython.core.display.Javascript object>"
            ],
            "application/javascript": [
              "download(\"download_22a629cd-2fee-47d1-8ac1-78a42f36becb\", \"reviews.csv\", 71411)"
            ]
          },
          "metadata": {}
        }
      ]
    }
  ]
}