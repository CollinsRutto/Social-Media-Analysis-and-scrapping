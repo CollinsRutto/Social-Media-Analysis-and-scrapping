{
  "nbformat": 4,
  "nbformat_minor": 0,
  "metadata": {
    "colab": {
      "provenance": [],
      "authorship_tag": "ABX9TyOBJBFYEqU/Ec17xox17daA",
      "include_colab_link": true
    },
    "kernelspec": {
      "name": "python3",
      "display_name": "Python 3"
    },
    "language_info": {
      "name": "python"
    }
  },
  "cells": [
    {
      "cell_type": "markdown",
      "metadata": {
        "id": "view-in-github",
        "colab_type": "text"
      },
      "source": [
        "<a href=\"https://colab.research.google.com/github/CollinsRutto/Social-Media-Analysis-and-scrapping/blob/main/Sentiment_Analysis.ipynb\" target=\"_parent\"><img src=\"https://colab.research.google.com/assets/colab-badge.svg\" alt=\"Open In Colab\"/></a>"
      ]
    },
    {
      "cell_type": "code",
      "execution_count": 1,
      "metadata": {
        "colab": {
          "base_uri": "https://localhost:8080/"
        },
        "id": "rQvIK2bKLhcp",
        "outputId": "a1357ca0-80a4-414b-b725-2ea098478858"
      },
      "outputs": [
        {
          "output_type": "stream",
          "name": "stdout",
          "text": [
            "Requirement already satisfied: textblob in /usr/local/lib/python3.10/dist-packages (0.17.1)\n",
            "Requirement already satisfied: nltk>=3.1 in /usr/local/lib/python3.10/dist-packages (from textblob) (3.8.1)\n",
            "Requirement already satisfied: click in /usr/local/lib/python3.10/dist-packages (from nltk>=3.1->textblob) (8.1.7)\n",
            "Requirement already satisfied: joblib in /usr/local/lib/python3.10/dist-packages (from nltk>=3.1->textblob) (1.4.0)\n",
            "Requirement already satisfied: regex>=2021.8.3 in /usr/local/lib/python3.10/dist-packages (from nltk>=3.1->textblob) (2023.12.25)\n",
            "Requirement already satisfied: tqdm in /usr/local/lib/python3.10/dist-packages (from nltk>=3.1->textblob) (4.66.2)\n"
          ]
        }
      ],
      "source": [
        "pip install textblob"
      ]
    },
    {
      "cell_type": "code",
      "source": [
        "pip install requests"
      ],
      "metadata": {
        "colab": {
          "base_uri": "https://localhost:8080/"
        },
        "id": "C-ORiJyzLo1z",
        "outputId": "134415ea-31e3-400f-8e08-94ac3712d146"
      },
      "execution_count": 2,
      "outputs": [
        {
          "output_type": "stream",
          "name": "stdout",
          "text": [
            "Requirement already satisfied: requests in /usr/local/lib/python3.10/dist-packages (2.31.0)\n",
            "Requirement already satisfied: charset-normalizer<4,>=2 in /usr/local/lib/python3.10/dist-packages (from requests) (3.3.2)\n",
            "Requirement already satisfied: idna<4,>=2.5 in /usr/local/lib/python3.10/dist-packages (from requests) (3.7)\n",
            "Requirement already satisfied: urllib3<3,>=1.21.1 in /usr/local/lib/python3.10/dist-packages (from requests) (2.0.7)\n",
            "Requirement already satisfied: certifi>=2017.4.17 in /usr/local/lib/python3.10/dist-packages (from requests) (2024.2.2)\n"
          ]
        }
      ]
    },
    {
      "cell_type": "code",
      "source": [
        "import json\n",
        "import matplotlib.pyplot as plt\n",
        "import seaborn as sns\n",
        "import plotly.graph_objects as go\n",
        "import requests\n",
        "from textblob import TextBlob\n",
        "\n",
        "# Specify the URL to fetch JSON data\n",
        "url = \"https://api.apify.com/v2/datasets/iVzjFjutm8FKIefpi/items?clean=true&format=json\"\n",
        "\n",
        "try:\n",
        "    # Make an HTTP GET request to the URL\n",
        "    response = requests.get(url)\n",
        "\n",
        "    # Check if the request was successful (status code 200)\n",
        "    if response.status_code == 200:\n",
        "        # Parse JSON data from the response\n",
        "        data = response.json()\n",
        "\n",
        "        # Extract relevant data\n",
        "        tweet_texts = [tweet['full_text'] for tweet in data]\n",
        "\n",
        "        # Perform sentiment analysis\n",
        "        positive_count = 0\n",
        "        negative_count = 0\n",
        "\n",
        "        for text in tweet_texts:\n",
        "            analysis = TextBlob(text)\n",
        "            # Determine sentiment polarity (-1 to 1)\n",
        "            if analysis.sentiment.polarity > 0:\n",
        "                positive_count += 1\n",
        "            elif analysis.sentiment.polarity < 0:\n",
        "                negative_count += 1\n",
        "\n",
        "        # Visualize sentiment distribution\n",
        "        labels = ['Positive', 'Negative']\n",
        "        counts = [positive_count, negative_count]\n",
        "\n",
        "        plt.figure(figsize=(8, 6))\n",
        "        plt.bar(labels, counts, color=['green', 'red'])\n",
        "        plt.title('Sentiment Distribution of Tweets')\n",
        "        plt.xlabel('Sentiment')\n",
        "        plt.ylabel('Count')\n",
        "        plt.show()\n",
        "\n",
        "    else:\n",
        "        # Display an error message if the request was unsuccessful\n",
        "        print(f\"Error: HTTP status code {response.status_code} - {response.reason}\")\n",
        "\n",
        "except Exception as e:\n",
        "    # Display an error message if any exception occurs\n",
        "    print(f\"Error fetching JSON data from URL: {e}\")\n"
      ],
      "metadata": {
        "colab": {
          "base_uri": "https://localhost:8080/",
          "height": 564
        },
        "id": "3gjPDmbRLrF0",
        "outputId": "b533e5ec-c482-4c28-e279-14d21400d216"
      },
      "execution_count": 3,
      "outputs": [
        {
          "output_type": "display_data",
          "data": {
            "text/plain": [
              "<Figure size 800x600 with 1 Axes>"
            ],
            "image/png": "[encoded data removed]"
          },
          "metadata": {}
        }
      ]
    }
  ]
}